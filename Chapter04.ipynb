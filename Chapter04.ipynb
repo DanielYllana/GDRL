{
 "cells": [
  {
   "cell_type": "markdown",
   "metadata": {},
   "source": [
    "# Balancing the gathering and use of information"
   ]
  },
  {
   "cell_type": "code",
   "execution_count": 4,
   "metadata": {},
   "outputs": [
    {
     "name": "stderr",
     "output_type": "stream",
     "text": [
      "c:\\Users\\danie\\anaconda3\\lib\\site-packages\\ipykernel\\ipkernel.py:287: DeprecationWarning: `should_run_async` will not call `transform_cell` automatically in the future. Please pass the result to `transformed_cell` argument and any exception that happen during thetransform in `preprocessing_exc_tuple` in IPython 7.17 and above.\n",
      "  and should_run_async(code)\n"
     ]
    }
   ],
   "source": [
    "import numpy as np\n",
    "import tqdm\n",
    "import gym, gym_walk\n",
    "import matplotlib.pyplot as plt\n",
    "import sys\n",
    "import warnings\n",
    "warnings.filterwarnings(\"ignore\")"
   ]
  },
  {
   "cell_type": "markdown",
   "metadata": {},
   "source": [
    "# Baseline Strategies"
   ]
  },
  {
   "cell_type": "markdown",
   "metadata": {},
   "source": [
    "## Exploration vs Exploitation Methods"
   ]
  },
  {
   "cell_type": "markdown",
   "metadata": {},
   "source": [
    "### Greedy: Always exploit"
   ]
  },
  {
   "cell_type": "code",
   "execution_count": 144,
   "metadata": {},
   "outputs": [
    {
     "name": "stdout",
     "output_type": "stream",
     "text": [
      "<class 'gym.wrappers.order_enforcing.OrderEnforcing'>\n",
      "<OrderEnforcing<StepAPICompatibility<PassiveEnvChecker<WalkEnv<BanditSlipperyWalk-v0>>>>>\n",
      "Action space: Discrete(2) size: 2\n",
      "Observation space: Discrete(3) size: 3\n"
     ]
    },
    {
     "name": "stderr",
     "output_type": "stream",
     "text": [
      "                                                                       \r"
     ]
    }
   ],
   "source": [
    "def pure_exploitation(env, n_episodes=5000):\n",
    "    env.reset()\n",
    "    print(f'Action space: {env.action_space} size: {env.action_space.n}')\n",
    "    print(f'Observation space: {env.observation_space} size: {env.observation_space.n}')\n",
    "    # Initialize the Q-function and the count array to zeros\n",
    "    Q = np.zeros((env.action_space.n))\n",
    "    N = np.zeros((env.action_space.n))\n",
    "    \n",
    "    Qe = np.empty((n_episodes, env.action_space.n))\n",
    "    returns = np.empty(n_episodes)\n",
    "    actions = np.empty(n_episodes, dtype=np.int32)\n",
    "\n",
    "    name = 'Pure exploitation'\n",
    "\n",
    "    for e in tqdm.tqdm(range(10), desc='Episodes for: ' + name, leave=False):\n",
    "        # Select the action that maximizes the estimated Q-values\n",
    "        action = np.argmax(Q)\n",
    "\n",
    "        _, reward, _, _, _ = env.step(action)\n",
    "        N[action] += 1\n",
    "        Q[action] = Q[action] + (reward - Q[action]) / N[action]\n",
    "\n",
    "        Qe[e] = Q\n",
    "        returns[e] = reward\n",
    "        actions[e] = action\n",
    "\n",
    "\n",
    "    return name, returns, Qe, actions\n",
    "\n",
    "env = gym.make('BanditSlipperyWalk-v0', new_step_api=True).env\n",
    "print(type(env))\n",
    "print(env)\n",
    "\n",
    "_, _, _, _ = pure_exploitation(env)\n"
   ]
  },
  {
   "cell_type": "markdown",
   "metadata": {},
   "source": [
    "### Random: Always explore"
   ]
  },
  {
   "cell_type": "code",
   "execution_count": 141,
   "metadata": {},
   "outputs": [
    {
     "name": "stdout",
     "output_type": "stream",
     "text": [
      "<class 'gym.wrappers.order_enforcing.OrderEnforcing'>\n",
      "<OrderEnforcing<StepAPICompatibility<PassiveEnvChecker<WalkEnv<BanditSlipperyWalk-v0>>>>>\n",
      "Action space: Discrete(2) size: 2\n",
      "Observation space: Discrete(3) size: 3\n"
     ]
    },
    {
     "data": {
      "image/png": "[encoded data removed]",
      "text/plain": [
       "<Figure size 432x288 with 3 Axes>"
      ]
     },
     "metadata": {
      "needs_background": "light"
     },
     "output_type": "display_data"
    }
   ],
   "source": [
    "def pure_exploration(env, n_episodes=5000):\n",
    "    print(f'Action space: {env.action_space} size: {env.action_space.n}')\n",
    "    print(f'Observation space: {env.observation_space} size: {env.observation_space.n}')\n",
    "    # Initialize the Q-function and the count array to zeros\n",
    "    Q = np.zeros((env.action_space.n))\n",
    "    N = np.zeros((env.action_space.n))\n",
    "    \n",
    "    Qe = np.empty((n_episodes, env.action_space.n))\n",
    "    returns = np.empty(n_episodes)\n",
    "    actions = np.empty(n_episodes, dtype=np.int32)\n",
    "    avg_returns = np.empty(n_episodes)\n",
    "\n",
    "    name = 'Pure exploration'\n",
    "    return_sum = 0\n",
    "\n",
    "    for e in range(n_episodes):\n",
    "        env.reset()\n",
    "\n",
    "        action = np.random.randint(len(Q))\n",
    "\n",
    "        _, reward, _, _, _ = env.step(action)\n",
    "        N[action] += 1\n",
    "        Q[action] = Q[action] + (reward - Q[action]) / N[action]\n",
    "\n",
    "        Qe[e] = Q\n",
    "        returns[e] = reward\n",
    "        actions[e] = action\n",
    "        \n",
    "        return_sum += reward\n",
    "        avg_returns[e] = np.divide(reward, e)\n",
    "        #print(f'Action: {action} Reward: {reward} Q[{action}]: {Q[action]} Qe[{e}]: {Qe[e]}')\n",
    "\n",
    "\n",
    "    return name, returns, Qe, actions, avg_returns\n",
    "\n",
    "env = gym.make('BanditSlipperyWalk-v0', new_step_api=True).env\n",
    "print(type(env))\n",
    "print(env)\n",
    "\n",
    "name, returns, Qe, actions, avg_returns = pure_exploration(env)\n",
    "\n",
    "np.set_printoptions(threshold=5000)\n",
    "\n",
    "\n",
    "plt.subplot(311)\n",
    "#plt.ylim(0, 1.25)\n",
    "plt.scatter(range(len(returns)), returns)\n",
    "\n",
    "plt.subplot(312)\n",
    "plt.plot(Qe[:, 0], c='Blue')\n",
    "plt.plot(Qe[:, 1], c='Orange')\n",
    "\n",
    "plt.subplot(313)\n",
    "plt.plot(avg_returns)\n",
    "plt.show()\n",
    "\n"
   ]
  },
  {
   "cell_type": "markdown",
   "metadata": {},
   "source": [
    "# Simple strategies"
   ]
  },
  {
   "cell_type": "markdown",
   "metadata": {},
   "source": [
    "## Epsilon-greedy: Almost always greedy and sometimes random"
   ]
  },
  {
   "cell_type": "code",
   "execution_count": 140,
   "metadata": {},
   "outputs": [
    {
     "name": "stdout",
     "output_type": "stream",
     "text": [
      "<class 'gym.wrappers.order_enforcing.OrderEnforcing'>\n",
      "<OrderEnforcing<StepAPICompatibility<PassiveEnvChecker<WalkEnv<BanditSlipperyWalk-v0>>>>>\n",
      "Action space: Discrete(2) size: 2\n",
      "Observation space: Discrete(3) size: 3\n"
     ]
    },
    {
     "data": {
      "image/png": "[encoded data removed]",
      "text/plain": [
       "<Figure size 432x288 with 3 Axes>"
      ]
     },
     "metadata": {
      "needs_background": "light"
     },
     "output_type": "display_data"
    }
   ],
   "source": [
    "def epsilon_greedy(env, n_episodes=5000, epsilon=0.01):\n",
    "    print(f'Action space: {env.action_space} size: {env.action_space.n}')\n",
    "    print(f'Observation space: {env.observation_space} size: {env.observation_space.n}')\n",
    "    # Initialize the Q-function and the count array to zeros\n",
    "    Q = np.zeros((env.action_space.n))\n",
    "    N = np.zeros((env.action_space.n))\n",
    "    \n",
    "    Qe = np.empty((n_episodes, env.action_space.n))\n",
    "    returns = np.empty(n_episodes)\n",
    "    actions = np.empty(n_episodes, dtype=np.int32)\n",
    "    avg_returns = np.empty(n_episodes)\n",
    "\n",
    "    name = 'E-greedy {}'.format(epsilon)\n",
    "    return_sum = 0\n",
    "\n",
    "    for e in range(n_episodes):\n",
    "        env.reset()\n",
    "\n",
    "        if np.random.random() > epsilon:\n",
    "            action = np.argmax(Q)\n",
    "        else:\n",
    "            action = np.random.randint(len(Q))\n",
    "\n",
    "        _, reward, _, _, _ = env.step(action)\n",
    "        N[action] += 1\n",
    "        Q[action] = Q[action] + (reward - Q[action]) / N[action]\n",
    "\n",
    "        Qe[e] = Q\n",
    "        returns[e] = reward\n",
    "        actions[e] = action\n",
    "\n",
    "        return_sum += reward\n",
    "        avg_returns[e] =  np.divide(return_sum, e)\n",
    "        #print(f'Action: {action} Reward: {reward} Q[{action}]: {Q[action]} Qe[{e}]: {Qe[e]} Avg_returns[{e}]: {avg_returns[e]}')\n",
    "\n",
    "    \n",
    "\n",
    "    return name, returns, Qe, actions, avg_returns\n",
    "\n",
    "env = gym.make('BanditSlipperyWalk-v0', new_step_api=True).env\n",
    "print(type(env))\n",
    "print(env)\n",
    "\n",
    "name, returns, Qe, actions, avg_returns = epsilon_greedy(env)\n",
    "\n",
    "\n",
    "plt.subplot(311)\n",
    "#plt.ylim(0, 1.25)\n",
    "plt.plot(range(len(returns)), returns)\n",
    "\n",
    "plt.subplot(312)\n",
    "plt.plot(Qe[:, 0], c='Blue')\n",
    "plt.plot(Qe[:, 1], c='Orange')\n",
    "\n",
    "\n",
    "plt.subplot(313)\n",
    "plt.plot(avg_returns)\n",
    "plt.show()"
   ]
  },
  {
   "cell_type": "markdown",
   "metadata": {},
   "source": [
    "## Decaying epsilon-greedy: First maximize exploration, then eploitation"
   ]
  },
  {
   "cell_type": "markdown",
   "metadata": {},
   "source": [
    "### Linear Decay"
   ]
  },
  {
   "cell_type": "code",
   "execution_count": 139,
   "metadata": {},
   "outputs": [
    {
     "name": "stdout",
     "output_type": "stream",
     "text": [
      "<class 'gym.wrappers.order_enforcing.OrderEnforcing'>\n",
      "<OrderEnforcing<StepAPICompatibility<PassiveEnvChecker<WalkEnv<BanditSlipperyWalk-v0>>>>>\n",
      "Action space: Discrete(2) size: 2\n",
      "Observation space: Discrete(3) size: 3\n"
     ]
    },
    {
     "data": {
      "image/png": "[encoded data removed]",
      "text/plain": [
       "<Figure size 432x288 with 3 Axes>"
      ]
     },
     "metadata": {
      "needs_background": "light"
     },
     "output_type": "display_data"
    }
   ],
   "source": [
    "def lin_dec_epsilon_greedy(env, \n",
    "                        n_episodes=5000, \n",
    "                        init_epsilon=1.0,\n",
    "                        min_epsilon=0.01,\n",
    "                        decay_ratio=0.05):\n",
    "    print(f'Action space: {env.action_space} size: {env.action_space.n}')\n",
    "    print(f'Observation space: {env.observation_space} size: {env.observation_space.n}')\n",
    "    # Initialize the Q-function and the count array to zeros\n",
    "    Q = np.zeros((env.action_space.n))\n",
    "    N = np.zeros((env.action_space.n))\n",
    "    \n",
    "    Qe = np.empty((n_episodes, env.action_space.n))\n",
    "    returns = np.empty(n_episodes)\n",
    "    actions = np.empty(n_episodes, dtype=np.int32)\n",
    "    avg_returns = np.empty(n_episodes)\n",
    "\n",
    "    name = 'Lin e-greedy {} {} {}'.format(init_epsilon, min_epsilon, decay_ratio)\n",
    "    return_sum = 0\n",
    "    decay_episodes = n_episodes * decay_ratio\n",
    "\n",
    "    for e in range(n_episodes):\n",
    "        env.reset()\n",
    "\n",
    "        epsilon = 1 - e / decay_episodes\n",
    "        epsilon *= init_epsilon - min_epsilon\n",
    "        epsilon += min_epsilon\n",
    "        epsilon = np.clip(epsilon, min_epsilon, init_epsilon)\n",
    "        \n",
    "\n",
    "        if np.random.random() > epsilon:\n",
    "            action = np.argmax(Q)\n",
    "        else:\n",
    "            action = np.random.randint(len(Q))\n",
    "\n",
    "        _, reward, _, _, _ = env.step(action)\n",
    "        N[action] += 1\n",
    "        Q[action] = Q[action] + (reward - Q[action]) / N[action]\n",
    "\n",
    "        Qe[e] = Q\n",
    "        returns[e] = reward\n",
    "        actions[e] = action\n",
    "\n",
    "        return_sum += reward\n",
    "        avg_returns[e] =  np.divide(return_sum, e)\n",
    "        #print(f'Action: {action} Reward: {reward} Q[{action}]: {Q[action]}' \\\n",
    "        #    f'Qe[{e}]: {Qe[e]} Avg_returns[{e}]: {avg_returns[e]}' \\\n",
    "        #    f' Epsilon: {epsilon}')\n",
    "\n",
    "    \n",
    "\n",
    "    return name, returns, Qe, actions, avg_returns\n",
    "\n",
    "env = gym.make('BanditSlipperyWalk-v0', new_step_api=True).env\n",
    "print(type(env))\n",
    "print(env)\n",
    "\n",
    "name, returns, Qe, actions, avg_returns = lin_dec_epsilon_greedy(env)\n",
    "\n",
    "\n",
    "plt.subplot(311)\n",
    "#plt.ylim(0, 1.25)\n",
    "plt.plot(range(len(returns)), returns)\n",
    "\n",
    "plt.subplot(312)\n",
    "plt.plot(Qe[:, 0], c='Blue')\n",
    "plt.plot(Qe[:, 1], c='Orange')\n",
    "\n",
    "\n",
    "plt.subplot(313)\n",
    "plt.plot(avg_returns)\n",
    "plt.show()"
   ]
  },
  {
   "cell_type": "markdown",
   "metadata": {},
   "source": [
    "### Exponential Decay"
   ]
  },
  {
   "cell_type": "code",
   "execution_count": 138,
   "metadata": {},
   "outputs": [
    {
     "name": "stdout",
     "output_type": "stream",
     "text": [
      "<class 'gym.wrappers.order_enforcing.OrderEnforcing'>\n",
      "<OrderEnforcing<StepAPICompatibility<PassiveEnvChecker<WalkEnv<BanditSlipperyWalk-v0>>>>>\n",
      "Action space: Discrete(2) size: 2\n",
      "Observation space: Discrete(3) size: 3\n"
     ]
    },
    {
     "data": {
      "image/png": "[encoded data removed]",
      "text/plain": [
       "<Figure size 432x288 with 3 Axes>"
      ]
     },
     "metadata": {
      "needs_background": "light"
     },
     "output_type": "display_data"
    }
   ],
   "source": [
    "def exp_dec_epsilon_greedy(env, \n",
    "                        n_episodes=5000, \n",
    "                        init_epsilon=1.0,\n",
    "                        min_epsilon=0.01,\n",
    "                        decay_ratio=0.1):\n",
    "    print(f'Action space: {env.action_space} size: {env.action_space.n}')\n",
    "    print(f'Observation space: {env.observation_space} size: {env.observation_space.n}')\n",
    "    # Initialize the Q-function and the count array to zeros\n",
    "    Q = np.zeros((env.action_space.n))\n",
    "    N = np.zeros((env.action_space.n))\n",
    "    \n",
    "    Qe = np.empty((n_episodes, env.action_space.n))\n",
    "    returns = np.empty(n_episodes)\n",
    "    actions = np.empty(n_episodes, dtype=np.int32)\n",
    "    avg_returns = np.empty(n_episodes)\n",
    "\n",
    "    name = 'Exp e-greedy {} {} {}'.format(init_epsilon, min_epsilon, decay_ratio)\n",
    "    return_sum = 0\n",
    "\n",
    "    decay_episodes = int(n_episodes * decay_ratio)\n",
    "    rem_episodes = n_episodes - decay_episodes\n",
    "    epsilons = 0.01\n",
    "    epsilons /= np.logspace(-2, 0, decay_episodes)\n",
    "    epsilons *= init_epsilon - min_epsilon\n",
    "    epsilons += min_epsilon\n",
    "    epsilons = np.pad(epsilons, (0, rem_episodes), 'edge')\n",
    "\n",
    "    for e in range(n_episodes):\n",
    "        env.reset()\n",
    "\n",
    "        if np.random.random() > epsilons[e]:\n",
    "            action = np.argmax(Q)\n",
    "        else:\n",
    "            action = np.random.randint(len(Q))\n",
    "\n",
    "        _, reward, _, _, _ = env.step(action)\n",
    "        N[action] += 1\n",
    "        Q[action] = Q[action] + (reward - Q[action]) / N[action]\n",
    "\n",
    "        Qe[e] = Q\n",
    "        returns[e] = reward\n",
    "        actions[e] = action\n",
    "\n",
    "        return_sum += reward\n",
    "        avg_returns[e] =  np.divide(return_sum, e)\n",
    "        #print(f'Action: {action} Reward: {reward} Q[{action}]: {Q[action]}' \\\n",
    "        #    f'Qe[{e}]: {Qe[e]} Avg_returns[{e}]: {avg_returns[e]}' \\\n",
    "        #    f' Epsilon: {epsilons[e]}')\n",
    "\n",
    "    \n",
    "\n",
    "    return name, returns, Qe, actions, avg_returns\n",
    "\n",
    "env = gym.make('BanditSlipperyWalk-v0', new_step_api=True).env\n",
    "print(type(env))\n",
    "print(env)\n",
    "\n",
    "name, returns, Qe, actions, avg_returns = exp_dec_epsilon_greedy(env)\n",
    "\n",
    "\n",
    "plt.subplot(311)\n",
    "#plt.ylim(0, 1.25)\n",
    "plt.plot(range(len(returns)), returns)\n",
    "\n",
    "plt.subplot(312)\n",
    "plt.plot(Qe[:, 0], c='Blue')\n",
    "plt.plot(Qe[:, 1], c='Orange')\n",
    "\n",
    "\n",
    "plt.subplot(313)\n",
    "plt.plot(avg_returns)\n",
    "plt.show()"
   ]
  },
  {
   "cell_type": "markdown",
   "metadata": {},
   "source": [
    "## Optimistic initialization: Start off believing it's a wonderful world"
   ]
  },
  {
   "cell_type": "code",
   "execution_count": 137,
   "metadata": {},
   "outputs": [
    {
     "name": "stdout",
     "output_type": "stream",
     "text": [
      "<class 'gym.wrappers.order_enforcing.OrderEnforcing'>\n",
      "<OrderEnforcing<StepAPICompatibility<PassiveEnvChecker<WalkEnv<BanditSlipperyWalk-v0>>>>>\n",
      "Action space: Discrete(2) size: 2\n",
      "Observation space: Discrete(3) size: 3\n"
     ]
    },
    {
     "data": {
      "image/png": "[encoded data removed]",
      "text/plain": [
       "<Figure size 432x288 with 3 Axes>"
      ]
     },
     "metadata": {
      "needs_background": "light"
     },
     "output_type": "display_data"
    }
   ],
   "source": [
    "def optimistic_initialization(env, \n",
    "                        optimistic_estimate=1.0,\n",
    "                        initial_count=100,\n",
    "                        n_episodes=5000):\n",
    "    print(f'Action space: {env.action_space} size: {env.action_space.n}')\n",
    "    print(f'Observation space: {env.observation_space} size: {env.observation_space.n}')\n",
    "    \n",
    "    # Initialize the Q-function to an optimistic value\n",
    "    Q = np.full((env.action_space.n), optimistic_estimate, dtype=np.float64)\n",
    "    N = np.full((env.action_space.n), initial_count, dtype=np.float64)\n",
    "    \n",
    "    Qe = np.empty((n_episodes, env.action_space.n))\n",
    "    returns = np.empty(n_episodes)\n",
    "    actions = np.empty(n_episodes, dtype=np.int32)\n",
    "    avg_returns = np.empty(n_episodes)\n",
    "\n",
    "    name = 'Optimistic {} {}'.format(optimistic_estimate, initial_count)\n",
    "    return_sum = 0\n",
    "\n",
    "\n",
    "    for e in range(n_episodes):\n",
    "        env.reset()\n",
    "\n",
    "        action = np.argmax(Q)\n",
    "\n",
    "        _, reward, _, _, _ = env.step(action)\n",
    "        N[action] += 1\n",
    "        Q[action] = Q[action] + (reward - Q[action]) / N[action]\n",
    "\n",
    "        Qe[e] = Q\n",
    "        returns[e] = reward\n",
    "        actions[e] = action\n",
    "\n",
    "        return_sum += reward\n",
    "        avg_returns[e] =  np.divide(return_sum, e)\n",
    "\n",
    "    \n",
    "\n",
    "    return name, returns, Qe, actions, avg_returns\n",
    "\n",
    "env = gym.make('BanditSlipperyWalk-v0', new_step_api=True).env\n",
    "print(type(env))\n",
    "print(env)\n",
    "\n",
    "name, returns, Qe, actions, avg_returns = optimistic_initialization(env)\n",
    "\n",
    "\n",
    "plt.subplot(311)\n",
    "#plt.ylim(0, 1.25)\n",
    "plt.plot(range(len(returns)), returns)\n",
    "\n",
    "plt.subplot(312)\n",
    "plt.plot(Qe[:, 0], c='Blue')\n",
    "plt.plot(Qe[:, 1], c='Orange')\n",
    "\n",
    "\n",
    "plt.subplot(313)\n",
    "plt.plot(avg_returns)\n",
    "plt.show()"
   ]
  },
  {
   "cell_type": "markdown",
   "metadata": {},
   "source": [
    "# Advanced strategies"
   ]
  },
  {
   "cell_type": "markdown",
   "metadata": {},
   "source": [
    "## Softmax: Select actions randomly in proportion to their estimates"
   ]
  },
  {
   "cell_type": "code",
   "execution_count": 136,
   "metadata": {},
   "outputs": [
    {
     "name": "stdout",
     "output_type": "stream",
     "text": [
      "<class 'gym.wrappers.order_enforcing.OrderEnforcing'>\n",
      "<OrderEnforcing<StepAPICompatibility<PassiveEnvChecker<WalkEnv<BanditSlipperyWalk-v0>>>>>\n",
      "Action space: Discrete(2) size: 2\n",
      "Observation space: Discrete(3) size: 3\n"
     ]
    },
    {
     "data": {
      "image/png": "[encoded data removed]",
      "text/plain": [
       "<Figure size 432x288 with 2 Axes>"
      ]
     },
     "metadata": {
      "needs_background": "light"
     },
     "output_type": "display_data"
    }
   ],
   "source": [
    "def softmax(env, \n",
    "            init_temp=float('inf'),\n",
    "            min_temp=0.0,\n",
    "            decay_ratio=0.04,\n",
    "            n_episodes=5000):\n",
    "    print(f'Action space: {env.action_space} size: {env.action_space.n}')\n",
    "    print(f'Observation space: {env.observation_space} size: {env.observation_space.n}')\n",
    "    \n",
    "   \n",
    "    Q = np.zeros((env.action_space.n), dtype=np.float64)\n",
    "    N = np.zeros((env.action_space.n), dtype=np.int)\n",
    "    \n",
    "    Qe = np.empty((n_episodes, env.action_space.n))\n",
    "    returns = np.empty(n_episodes)\n",
    "    actions = np.empty(n_episodes, dtype=np.int32)\n",
    "    avg_returns = np.empty(n_episodes)\n",
    "\n",
    "    # can't really use infinity\n",
    "    init_temp = min(init_temp, sys.float_info.max)\n",
    "    # can't really use zero\n",
    "    min_temp = max(min_temp, np.nextafter(np.float32(0), np.float32(1)))\n",
    "\n",
    "    name = 'Softmax {} {} {}'.format(init_temp, min_temp, decay_ratio)\n",
    "    return_sum = 0\n",
    "\n",
    "    for e in range(n_episodes):\n",
    "        env.reset()\n",
    "\n",
    "        decay_episodes = n_episodes * decay_ratio   \n",
    "        temp = 1 - e / decay_episodes\n",
    "        temp *= init_temp - min_temp\n",
    "        temp += min_temp\n",
    "        temp = np.clip(temp, min_temp, init_temp)\n",
    "\n",
    "\n",
    "        scaled_Q = Q / temp\n",
    "        norm_Q = scaled_Q - np.max(scaled_Q)\n",
    "        exp_Q = np.exp(norm_Q)\n",
    "        probs = exp_Q / np.sum(exp_Q)\n",
    "        assert np.isclose(probs.sum(), 1.0)\n",
    "\n",
    "        action = np.random.choice(np.arange(len(probs)),\n",
    "                                    size=1,\n",
    "                                    p=probs)[0]\n",
    "\n",
    "        _, reward, _, _, _ = env.step(action)\n",
    "        N[action] += 1\n",
    "        Q[action] = Q[action] + (reward - Q[action]) / N[action]\n",
    "\n",
    "        Qe[e] = Q\n",
    "        returns[e] = reward\n",
    "        actions[e] = action\n",
    "\n",
    "        return_sum += reward\n",
    "        avg_returns[e] =  np.divide(return_sum, e)\n",
    "\n",
    "    return name, returns, Qe, actions, avg_returns\n",
    "\n",
    "env = gym.make('BanditSlipperyWalk-v0', new_step_api=True).env\n",
    "print(type(env))\n",
    "print(env)\n",
    "\n",
    "name, returns, Qe, actions, avg_returns = softmax(env)\n",
    "\n",
    "\n",
    "plt.subplot(211)\n",
    "plt.plot(Qe[:, 0], c='Blue')\n",
    "plt.plot(Qe[:, 1], c='Orange')\n",
    "\n",
    "\n",
    "plt.subplot(212)\n",
    "plt.plot(avg_returns)\n",
    "plt.show()"
   ]
  },
  {
   "cell_type": "markdown",
   "metadata": {},
   "source": [
    "## UCB: It's not about optimism, it's about realistic optimism"
   ]
  },
  {
   "cell_type": "code",
   "execution_count": 145,
   "metadata": {},
   "outputs": [
    {
     "name": "stdout",
     "output_type": "stream",
     "text": [
      "<class 'gym.wrappers.order_enforcing.OrderEnforcing'>\n",
      "<OrderEnforcing<StepAPICompatibility<PassiveEnvChecker<WalkEnv<BanditSlipperyWalk-v0>>>>>\n"
     ]
    },
    {
     "data": {
      "image/png": "[encoded data removed]",
      "text/plain": [
       "<Figure size 432x288 with 2 Axes>"
      ]
     },
     "metadata": {
      "needs_background": "light"
     },
     "output_type": "display_data"
    }
   ],
   "source": [
    "def upper_confidence_bound(env, \n",
    "                            c=2,\n",
    "                            n_episodes=5000):\n",
    "\n",
    "    Q = np.zeros((env.action_space.n), dtype=np.float)\n",
    "    N = np.zeros((env.action_space.n), dtype=np.int)\n",
    "    \n",
    "    Qe = np.empty((n_episodes, env.action_space.n))\n",
    "    returns = np.empty(n_episodes)\n",
    "    actions = np.empty(n_episodes, dtype=np.int32)\n",
    "    avg_returns = np.empty(n_episodes)\n",
    "\n",
    "    name = 'UCB {}'.format(c)\n",
    "    return_sum = 0\n",
    "\n",
    "    for e in range(n_episodes):\n",
    "        env.reset()\n",
    "\n",
    "        if e < len(Q):\n",
    "            action = e\n",
    "        else:\n",
    "            U = np.sqrt(c * np.log(e)/N)\n",
    "\n",
    "            action = np.argmax(Q + U)\n",
    "        \n",
    "        _, reward, _, _, _ = env.step(action)\n",
    "        N[action] += 1\n",
    "        Q[action] = Q[action] + (reward - Q[action]) / N[action]\n",
    "\n",
    "        Qe[e] = Q\n",
    "        returns[e] = reward\n",
    "        actions[e] = action\n",
    "\n",
    "        return_sum += reward\n",
    "        avg_returns[e] =  np.divide(return_sum, e)\n",
    "\n",
    "    return name, returns, Qe, actions, avg_returns\n",
    "\n",
    "env = gym.make('BanditSlipperyWalk-v0', new_step_api=True).env\n",
    "print(type(env))\n",
    "print(env)\n",
    "\n",
    "name, returns, Qe, actions, avg_returns = upper_confidence_bound(env)\n",
    "\n",
    "\n",
    "plt.subplot(211)\n",
    "plt.plot(Qe[:, 0], c='Blue')\n",
    "plt.plot(Qe[:, 1], c='Orange')\n",
    "\n",
    "\n",
    "plt.subplot(212)\n",
    "plt.plot(avg_returns)\n",
    "plt.show()"
   ]
  },
  {
   "cell_type": "markdown",
   "metadata": {},
   "source": [
    "## Thompson sampling: Balancing reward and risk"
   ]
  },
  {
   "cell_type": "code",
   "execution_count": 15,
   "metadata": {},
   "outputs": [
    {
     "name": "stdout",
     "output_type": "stream",
     "text": [
      "<class 'gym.wrappers.order_enforcing.OrderEnforcing'>\n",
      "<OrderEnforcing<StepAPICompatibility<PassiveEnvChecker<WalkEnv<BanditSlipperyWalk-v0>>>>>\n"
     ]
    },
    {
     "data": {
      "image/png": "[encoded data removed]",
      "text/plain": [
       "<Figure size 432x288 with 1 Axes>"
      ]
     },
     "metadata": {
      "needs_background": "light"
     },
     "output_type": "display_data"
    },
    {
     "data": {
      "image/png": "[encoded data removed]",
      "text/plain": [
       "<Figure size 432x288 with 2 Axes>"
      ]
     },
     "metadata": {
      "needs_background": "light"
     },
     "output_type": "display_data"
    }
   ],
   "source": [
    "def thompson_sampling(env, \n",
    "                    alpha=1,\n",
    "                    beta=0,\n",
    "                    n_episodes=5000):\n",
    "\n",
    "    Q = np.zeros((env.action_space.n), dtype=np.float)\n",
    "    N = np.zeros((env.action_space.n), dtype=np.int)\n",
    "    \n",
    "    Qe = np.empty((n_episodes, env.action_space.n))\n",
    "    returns = np.empty(n_episodes)\n",
    "    actions = np.empty(n_episodes, dtype=np.int32)\n",
    "    avg_returns = np.empty(n_episodes)\n",
    "\n",
    "    name = 'Thompson Sampling {} {}'.format(alpha, beta)\n",
    "    return_sum = 0\n",
    "\n",
    "    for e in range(n_episodes):\n",
    "        env.reset()\n",
    "\n",
    "        samples = np.random.normal(loc=Q, scale=alpha/(np.sqrt(N) + beta))\n",
    "        \n",
    "        action = np.argmax(samples)\n",
    "        \n",
    "        _, reward, _, _, _ = env.step(action)\n",
    "        N[action] += 1\n",
    "        Q[action] = Q[action] + (reward - Q[action]) / N[action]\n",
    "\n",
    "        Qe[e] = Q\n",
    "        returns[e] = reward\n",
    "        actions[e] = action\n",
    "\n",
    "        return_sum += reward\n",
    "        avg_returns[e] =  np.divide(return_sum, e)\n",
    "        \n",
    "    return name, returns, Qe, actions, avg_returns\n",
    "\n",
    "env = gym.make('BanditSlipperyWalk-v0', new_step_api=True).env\n",
    "print(type(env))\n",
    "print(env)\n",
    "\n",
    "name, returns, Qe, actions, avg_returns = thompson_sampling(env)\n",
    "\n",
    "\n",
    "plt.subplot(211)\n",
    "plt.plot(Qe[:, 0], c='Blue')\n",
    "plt.plot(Qe[:, 1], c='Orange')\n",
    "\n",
    "\n",
    "plt.subplot(212)\n",
    "plt.plot(avg_returns)\n",
    "plt.show()"
   ]
  }
 ],
 "metadata": {
  "kernelspec": {
   "display_name": "Python 3.8.8 ('base')",
   "language": "python",
   "name": "python3"
  },
  "language_info": {
   "codemirror_mode": {
    "name": "ipython",
    "version": 3
   },
   "file_extension": ".py",
   "mimetype": "text/x-python",
   "name": "python",
   "nbconvert_exporter": "python",
   "pygments_lexer": "ipython3",
   "version": "3.8.8"
  },
  "orig_nbformat": 4,
  "vscode": {
   "interpreter": {
    "hash": "4d9defa72c2715dab9f7f172572cd30a1ab1a2083462d32ef96aadb7c6e0c73b"
   }
  }
 },
 "nbformat": 4,
 "nbformat_minor": 2
}
